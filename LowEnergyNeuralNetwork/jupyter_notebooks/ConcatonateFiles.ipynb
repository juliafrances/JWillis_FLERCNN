{
 "cells": [
  {
   "cell_type": "code",
   "execution_count": 12,
   "metadata": {},
   "outputs": [],
   "source": [
    "#################################\n",
    "# Concatonates hdf5 training data sets\n",
    "# USE IF YOU WANT TO PUT Training Files TOGETHER\n",
    "# OR IF YOU WANT TO CUT\n",
    "#   Inputs:\n",
    "#       -i input files: name of file (can use * and ?)\n",
    "#       -d path: path to input files\n",
    "#       -o ouput: name of output file, placed in path directory\n",
    "#       -c cuts: name of cuts you want to apply (i.e. track only = track)\n",
    "#       -r reco: bool if files have pegleg reco in them\n",
    "#################################"
   ]
  },
  {
   "cell_type": "code",
   "execution_count": 13,
   "metadata": {},
   "outputs": [],
   "source": [
    "import numpy as np\n",
    "import glob\n",
    "import h5py"
   ]
  },
  {
   "cell_type": "code",
   "execution_count": 14,
   "metadata": {},
   "outputs": [],
   "source": [
    "input_files = 'Level5p_IC86.2013_genie_nue.012640.100_all_lt60_vertexDC.hdf5'\n",
    "path = 'SomeRawMC/'\n",
    "output = 'Level5p_IC86.2013_genie_nue.012640.100' #base name for output file\n",
    "reco = True #If level5p and used CreateTrainingFiles that has reco_labels output"
   ]
  },
  {
   "cell_type": "code",
   "execution_count": 15,
   "metadata": {},
   "outputs": [
    {
     "name": "stdout",
     "output_type": "stream",
     "text": [
      "I am saving only cascade events\n"
     ]
    }
   ],
   "source": [
    "## PICK CUT OPTIONS ##\n",
    "# cut names: track, cascasde, CC, NC, \n",
    "#            track CC, track NC, cascade CC, \n",
    "#            cascade NC, track CC cascade CC,\n",
    "#            track NC cascade NC \n",
    "cuts = 'cascade'\n",
    "print(\"I am saving only %s events\"%cuts)"
   ]
  },
  {
   "cell_type": "code",
   "execution_count": 16,
   "metadata": {},
   "outputs": [],
   "source": [
    "file_names = path + input_files\n",
    "event_file_names = sorted(glob.glob(file_names))\n",
    "assert event_file_names,\"No files loaded, please check path.\"\n",
    "\n",
    "full_features_DC = None\n",
    "full_features_IC = None\n",
    "full_labels = None\n",
    "full_reco = None\n",
    "full_initial_stats = None\n",
    "full_num_pulses = None"
   ]
  },
  {
   "cell_type": "code",
   "execution_count": 17,
   "metadata": {},
   "outputs": [],
   "source": [
    "# Labels: [ nu energy, nu zenith, nu azimuth, nu time, nu x, nu y, nu z, track length (0 for cascade), isTrack (track = 1, cascasde = 0), \n",
    "#         flavor, type (anti = 1), isCC (CC=1, NC = 0)]\n",
    "\n",
    "def define_cuts(mask_list,logical_and_or=\"and\"):\n",
    "    mask = {}\n",
    "    max_masks = len(mask_list)\n",
    "    for i in range(0,max_masks):\n",
    "        this_cut = mask_list[i]\n",
    "        mask_name = \"mask\" + str(i+1)\n",
    "        if this_cut ==\"track\": #track only\n",
    "            mask_type = isTrack==1\n",
    "        elif this_cut ==\"cascade\": #cascade only\n",
    "            mask_type = isTrack==0\n",
    "        elif this_cut ==\"CC\": # CC only\n",
    "            mask_type = isCC==1\n",
    "        elif this_cut ==\"NC\": # NC only\n",
    "            mask_type = isCC==0\n",
    "        else:\n",
    "            print(\"I don't know what cut this is, I'm going to break...\")\n",
    "            break\n",
    "\n",
    "        if i==0:\n",
    "            mask[mask_name] = mask_type\n",
    "        else:\n",
    "            last_mask_name = \"mask\" + str(i)\n",
    "            if logical_and_or == \"and\":\n",
    "                mask[mask_name] = np.logical_and( mask_type, mask[last_mask_name]) #Cumulative logical and mask\n",
    "            elif logical_and_or == \"or\":\n",
    "                mask[mask_name] = np.logical_or( mask_type, mask[last_mask_name]) #Cumulative logical or mask\n",
    "\n",
    "    final_mask = \"mask\" + str(max_masks)\n",
    "    keep_index = np.where(mask[final_mask])\n",
    "    return keep_index\n"
   ]
  },
  {
   "cell_type": "code",
   "execution_count": 18,
   "metadata": {},
   "outputs": [
    {
     "name": "stdout",
     "output_type": "stream",
     "text": [
      "Pulling data from SomeRawMC/Level5p_IC86.2013_genie_nue.012640.100_all_lt60_vertexDC.hdf5\n",
      "Events this file: 95166, Saved this file: 95166, Cumulative saved: 95166\n",
      " Finsihed file: SomeRawMC/Level5p_IC86.2013_genie_nue.012640.100_all_lt60_vertexDC.hdf5\n"
     ]
    }
   ],
   "source": [
    "for a_file in event_file_names:\n",
    "    print(\"Pulling data from %s\"%a_file)\n",
    "\n",
    "    f = h5py.File(a_file, \"r\")\n",
    "    file_features_DC = f[\"features_DC\"][:]\n",
    "    file_features_IC = f[\"features_IC\"][:]\n",
    "    file_labels = f[\"labels\"][:]\n",
    "    if reco:\n",
    "        file_reco = f[\"reco_labels\"][:]\n",
    "        file_initial_stats = f[\"initial_stats\"][:]\n",
    "        file_num_pulses = f[\"num_pulses_per_dom\"][:]\n",
    "    f.close()\n",
    "    del f\n",
    "\n",
    "    energy = file_labels[:,0]\n",
    "    zenith = file_labels[:,1]\n",
    "    isTrack = file_labels[:,8]\n",
    "    flavor = file_labels[:,9]\n",
    "    isCC = file_labels[:,11]\n",
    "    number_events = len(energy)\n",
    "\n",
    "    mask = {}\n",
    "    mask['track'] = isTrack==1\n",
    "    mask['cascade'] = isTrack==0\n",
    "    mask['CC'] = isTrack==1\n",
    "    mask['NC'] = isTrack==0\n",
    "    mask['track CC'] = np.logical_and( mask['track'], mask['CC'] )\n",
    "    mask['track NC'] = np.logical_and( mask['track'], mask['NC'] )\n",
    "    mask['cascade CC'] = np.logical_and( mask['cascade'], mask['CC'] )\n",
    "    mask['cascade NC'] = np.logical_and( mask['cascade'], mask['NC'] )\n",
    "    mask['track CC cascade CC'] = np.logical_or( np.logical_and(mask['track'], mask['CC']), np.logical_and(mask['cascade'], mask['CC']) )\n",
    "    mask['track NC cascade NC'] = np.logical_or( np.logical_and(mask['track'], mask['NC']), np.logical_and(mask['cascade'], mask['NC']) )\n",
    "\n",
    "    # Check how many events already in each bin, save if under max\n",
    "\n",
    "    #assert len(file_features_DC.shape) == 4, \"Features shape is wrong, code can't handle this\"\n",
    "\n",
    "\n",
    "    keep_index = mask[cuts]\n",
    "    \n",
    "    if full_features_DC is None:\n",
    "        full_features_DC = file_features_DC[keep_index]\n",
    "    else:\n",
    "        full_features_DC = np.concatenate((full_features_DC, file_features_DC[keep_index]))\n",
    "\n",
    "    if full_features_IC is None:\n",
    "        full_features_IC = file_features_IC[keep_index]\n",
    "    else:\n",
    "        full_features_IC = np.concatenate((full_features_IC, file_features_IC[keep_index]))\n",
    "\n",
    "    if full_labels is None:\n",
    "        full_labels = file_labels[keep_index]\n",
    "    else:\n",
    "        full_labels = np.concatenate((full_labels, file_labels[keep_index]))\n",
    "\n",
    "    if reco:\n",
    "        if full_reco is None:\n",
    "            full_reco = file_reco[keep_index]\n",
    "        else:\n",
    "            full_reco = np.concatenate((full_reco, file_reco[keep_index]))\n",
    "\n",
    "        if full_initial_stats is None:\n",
    "            full_initial_stats = file_initial_stats[keep_index]\n",
    "        else:\n",
    "            full_initial_stats  = np.concatenate((full_initial_stats , file_initial_stats[keep_index]))\n",
    "\n",
    "        if full_num_pulses is None:\n",
    "            full_num_pulses = file_num_pulses[keep_index]\n",
    "        else:\n",
    "            full_num_pulses = np.concatenate((full_num_pulses, file_num_pulses[keep_index]))\n",
    "\n",
    "\n",
    "    print(\"Events this file: %i, Saved this file: %i, Cumulative saved: %i\\n Finsihed file: %s\"%(number_events,np.count_nonzero(keep_index),full_labels.shape[0],a_file))\n"
   ]
  },
  {
   "cell_type": "code",
   "execution_count": 19,
   "metadata": {},
   "outputs": [
    {
     "name": "stdout",
     "output_type": "stream",
     "text": [
      "Total events saved: 95166\n",
      "I put everything into SomeRawMC/Level5p_IC86.2013_genie_nue.012640.100cascade.lt60_vertexDC.hdf5\n"
     ]
    }
   ],
   "source": [
    "#Save output to hdf5 file\n",
    "print(\"Total events saved: %i\"%full_features_DC.shape[0])\n",
    "cut_name = cuts.replace(\" \",\"\")\n",
    "output_name = path + output +  cut_name + \".lt60_vertexDC.hdf5\"\n",
    "print(\"I put everything into %s\"%output_name)\n",
    "f = h5py.File(output_name, \"w\")\n",
    "f.create_dataset(\"features_DC\", data=full_features_DC)\n",
    "f.create_dataset(\"features_IC\", data=full_features_IC)\n",
    "f.create_dataset(\"labels\", data=full_labels)\n",
    "if reco:\n",
    "    f.create_dataset(\"reco_labels\",data=full_reco)\n",
    "    f.create_dataset(\"initial_stats\",data=full_initial_stats)\n",
    "    f.create_dataset(\"num_pulses_per_dom\",data=full_num_pulses)\n",
    "f.close()"
   ]
  },
  {
   "cell_type": "code",
   "execution_count": null,
   "metadata": {},
   "outputs": [],
   "source": []
  }
 ],
 "metadata": {
  "kernelspec": {
   "display_name": "Python 3",
   "language": "python",
   "name": "python3"
  },
  "language_info": {
   "codemirror_mode": {
    "name": "ipython",
    "version": 3
   },
   "file_extension": ".py",
   "mimetype": "text/x-python",
   "name": "python",
   "nbconvert_exporter": "python",
   "pygments_lexer": "ipython3",
   "version": "3.7.3"
  }
 },
 "nbformat": 4,
 "nbformat_minor": 2
}
